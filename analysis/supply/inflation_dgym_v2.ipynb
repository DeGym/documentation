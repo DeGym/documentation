{
 "cells": [
  {
   "cell_type": "code",
   "execution_count": 27,
   "metadata": {},
   "outputs": [],
   "source": [
    "import numpy as np\n",
    "import matplotlib.pyplot as plt\n",
    "from ipywidgets import interact, FloatSlider, Checkbox\n",
    "import ipywidgets as widgets"
   ]
  },
  {
   "cell_type": "markdown",
   "metadata": {},
   "source": [
    "### Parameters"
   ]
  },
  {
   "cell_type": "code",
   "execution_count": 28,
   "metadata": {},
   "outputs": [],
   "source": [
    "initial_supply = 1e9\n",
    "max_supply = 1e10"
   ]
  },
  {
   "cell_type": "markdown",
   "metadata": {},
   "source": [
    "### Decay function"
   ]
  },
  {
   "cell_type": "code",
   "execution_count": 29,
   "metadata": {},
   "outputs": [],
   "source": [
    "def hyperbolic_tangent_decay(t, max_supply, current_supply, initial_rate, decay_constant):\n",
    "    remaining_supply_ratio = (max_supply - current_supply) / max_supply\n",
    "    inflation_rate = initial_rate * np.tanh(decay_constant * remaining_supply_ratio)\n",
    "    return inflation_rate\n"
   ]
  },
  {
   "cell_type": "markdown",
   "metadata": {},
   "source": [
    "### Calculate inflate rate\n",
    "\n",
    "The inflation rate is calculated using three different decay functions: exponential, logarithmic, and linear. The exponential decay function ensures that the rate decreases rapidly at first and then slows down, preventing the supply from reaching the maximum limit too quickly."
   ]
  },
  {
   "cell_type": "code",
   "execution_count": 30,
   "metadata": {},
   "outputs": [],
   "source": [
    "def calculate_supply(initial_supply, inflation_rates):\n",
    "    supply = [initial_supply]\n",
    "    for rate in inflation_rates:\n",
    "        supply.append(supply[-1] * (1 + rate))\n",
    "    return np.array(supply)\n"
   ]
  },
  {
   "cell_type": "markdown",
   "metadata": {},
   "source": [
    "### Calculate inflate rate"
   ]
  },
  {
   "cell_type": "code",
   "execution_count": 31,
   "metadata": {},
   "outputs": [],
   "source": [
    "def plot_inflation_rate_and_supply(initial_rate, decay_constant):\n",
    "    # Time (years)\n",
    "    years = np.linspace(0, 50, 1000)\n",
    "    \n",
    "    # Inflation rates and supply over time\n",
    "    inflation_rates = []\n",
    "    current_supply = initial_supply\n",
    "    for year in years:\n",
    "        rate = hyperbolic_tangent_decay(year, max_supply, current_supply, initial_rate, decay_constant)\n",
    "        inflation_rates.append(rate)\n",
    "        current_supply = current_supply * (1 + rate)\n",
    "    \n",
    "    inflation_rates = np.array(inflation_rates)\n",
    "    supply = calculate_supply(initial_supply, inflation_rates)\n",
    "    \n",
    "    # Ensure the lengths of years and supply match\n",
    "    if len(supply) > len(years):\n",
    "        supply = supply[:len(years)]\n",
    "    elif len(supply) < len(years):\n",
    "        years = years[:len(supply)]\n",
    "    \n",
    "    # Print lengths for debugging\n",
    "    print(f\"Years array length: {len(years)}\")\n",
    "    print(f\"Supply array length: {len(supply)}\")\n",
    "    \n",
    "    # Plotting Inflation Rates\n",
    "    plt.figure(figsize=(12, 8))\n",
    "    plt.subplot(2, 1, 1)\n",
    "    plt.plot(years, inflation_rates * 100, label='Hyperbolic Tangent Decay')\n",
    "    plt.axhline(y=0, color='r', linestyle='--', label='Zero Inflation')\n",
    "    plt.title('Hyperbolic Tangent Decay Inflation Rate Over Time')\n",
    "    plt.xlabel('Years')\n",
    "    plt.ylabel('Inflation Rate (%)')\n",
    "    plt.legend()\n",
    "    plt.grid(True)\n",
    "    plt.ylim(0, max(55, initial_rate * 100))\n",
    "    \n",
    "    # Plotting Supply\n",
    "    plt.subplot(2, 1, 2)\n",
    "    plt.plot(years, supply, label='Supply Over Time')\n",
    "    plt.axhline(y=max_supply, color='r', linestyle='--', label='Max Supply')\n",
    "    plt.title('Supply of DGYM Over Time')\n",
    "    plt.xlabel('Years')\n",
    "    plt.ylabel('Supply of DGYM')\n",
    "    plt.legend()\n",
    "    plt.grid(True)\n",
    "    plt.ylim(initial_supply, max_supply * 1.1)\n",
    "    \n",
    "    plt.tight_layout()\n",
    "    plt.show()\n",
    "\n"
   ]
  },
  {
   "cell_type": "markdown",
   "metadata": {},
   "source": [
    "### Display"
   ]
  },
  {
   "cell_type": "code",
   "execution_count": 32,
   "metadata": {},
   "outputs": [
    {
     "data": {
      "application/vnd.jupyter.widget-view+json": {
       "model_id": "a3418889fbf943d28e30754ad0f04041",
       "version_major": 2,
       "version_minor": 0
      },
      "text/plain": [
       "interactive(children=(FloatSlider(value=0.5, description='Initial Rate', max=0.5, min=0.01, step=0.01), FloatS…"
      ]
     },
     "metadata": {},
     "output_type": "display_data"
    },
    {
     "data": {
      "text/plain": [
       "<function __main__.plot_inflation_rate_and_supply(initial_rate, decay_constant)>"
      ]
     },
     "execution_count": 32,
     "metadata": {},
     "output_type": "execute_result"
    }
   ],
   "source": [
    "initial_rate_slider = FloatSlider(value=0.50, min=0.01, max=0.50, step=0.01, description='Initial Rate')\n",
    "decay_constant_slider = FloatSlider(value=0.1, min=0.001, max=1.0, step=0.001, description='Decay Constant')\n",
    "\n",
    "interact(plot_inflation_rate_and_supply, \n",
    "         initial_rate=initial_rate_slider, \n",
    "         decay_constant=decay_constant_slider)\n"
   ]
  }
 ],
 "metadata": {
  "kernelspec": {
   "display_name": ".venv",
   "language": "python",
   "name": "python3"
  },
  "language_info": {
   "codemirror_mode": {
    "name": "ipython",
    "version": 3
   },
   "file_extension": ".py",
   "mimetype": "text/x-python",
   "name": "python",
   "nbconvert_exporter": "python",
   "pygments_lexer": "ipython3",
   "version": "3.10.12"
  }
 },
 "nbformat": 4,
 "nbformat_minor": 2
}
