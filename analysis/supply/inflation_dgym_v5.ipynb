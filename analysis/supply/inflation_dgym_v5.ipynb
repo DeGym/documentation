{
 "cells": [
  {
   "cell_type": "code",
   "execution_count": 16,
   "metadata": {},
   "outputs": [],
   "source": [
    "import pandas as pd\n",
    "import numpy as np\n",
    "import matplotlib.pyplot as plt\n",
    "import seaborn as sns\n",
    "from ipywidgets import FloatSlider, interact, DatePicker\n",
    "import datetime"
   ]
  },
  {
   "cell_type": "markdown",
   "metadata": {},
   "source": [
    "### Constants"
   ]
  },
  {
   "cell_type": "code",
   "execution_count": 17,
   "metadata": {},
   "outputs": [],
   "source": [
    "initial_supply = 1e9\n",
    "max_supply = 1e10\n",
    "decay_constant = 0.5\n",
    "tge_date = datetime.datetime(2024, 1, 1)"
   ]
  },
  {
   "cell_type": "code",
   "execution_count": 18,
   "metadata": {},
   "outputs": [],
   "source": [
    "# Dynamically adjusted inflation function\n",
    "def dynamic_inflation(t, current_supply, max_supply, decay_constant):\n",
    "    remaining_supply_ratio = (max_supply - current_supply) / max_supply\n",
    "    inflation_rate = decay_constant * remaining_supply_ratio\n",
    "    return inflation_rate\n",
    "\n",
    "# Function to calculate supply based on dynamic inflation rate\n",
    "def calculate_supply_dynamic(initial_supply, max_supply, decay_constant, time_horizon):\n",
    "    supply = [initial_supply]\n",
    "    monthly_mint = []\n",
    "    for t in range(1, int(time_horizon) + 1):\n",
    "        current_supply = supply[-1]\n",
    "        inflation_rate = dynamic_inflation(t, current_supply, max_supply, decay_constant)\n",
    "        new_supply = current_supply * (1 + inflation_rate / 12)  # Monthly compounding\n",
    "        minted = new_supply - current_supply\n",
    "        monthly_mint.append(minted)\n",
    "        supply.append(min(new_supply, max_supply))\n",
    "    return np.array(supply), monthly_mint\n",
    "\n",
    "# Function to create the DataFrame\n",
    "def create_emission_schedule_df(initial_supply, max_supply, decay_constant, time_horizon, tge_date):\n",
    "    supply_dynamic, monthly_mint = calculate_supply_dynamic(initial_supply, max_supply, decay_constant, time_horizon)\n",
    "    months = np.arange(1, len(supply_dynamic))\n",
    "    dates = [tge_date + datetime.timedelta(days=30 * i) for i in range(len(months))]\n",
    "    token_per_second = [mint / (30 * 24 * 60 * 60) for mint in monthly_mint]\n",
    "\n",
    "    data = {\n",
    "        'Total Minted': [initial_supply] + list(np.cumsum(monthly_mint)[:-1]),\n",
    "        'Total per Month': monthly_mint,\n",
    "        'Token/Second': token_per_second,\n",
    "        'Date': [date.strftime(\"%Y-%m-%d\") for date in dates]\n",
    "    }\n",
    "    df = pd.DataFrame(data, index=months, columns=['Total Minted', 'Total per Month', 'Token/Second', 'Date'])\n",
    "    df.index.name = 'Month'\n",
    "    df['Year'] = df.index // 12 + 1\n",
    "    df.set_index(['Year', df.index], inplace=True)\n",
    "    return df\n",
    "\n",
    "# Styling the DataFrame\n",
    "def style_dataframe(df):\n",
    "    cm = sns.light_palette(\"green\", as_cmap=True)\n",
    "    styled_df = df.style.background_gradient(cmap=cm, subset=['Total Minted', 'Total per Month', 'Token/Second']) \\\n",
    "                     .format({'Total Minted': '{:,.0f}', 'Total per Month': '{:,.0f}', 'Token/Second': '{:.6f}'}) \\\n",
    "                     .set_properties(**{\n",
    "                         'background-color': '#1f1f1f',\n",
    "                         'color': '#ffffff',\n",
    "                         'border-color': 'white'\n",
    "                     })\n",
    "    return styled_df"
   ]
  },
  {
   "cell_type": "markdown",
   "metadata": {},
   "source": [
    "### Plotting the Total Supply"
   ]
  },
  {
   "cell_type": "code",
   "execution_count": 19,
   "metadata": {},
   "outputs": [],
   "source": [
    "# Plotting the Total Supply\n",
    "def plot_total_supply(df, decay_constant, time_horizon):\n",
    "    supply_dynamic, _ = calculate_supply_dynamic(initial_supply, max_supply, decay_constant, time_horizon)\n",
    "    months = np.arange(0, len(supply_dynamic))\n",
    "    \n",
    "    plt.figure(figsize=(14, 8))\n",
    "    plt.plot(months, supply_dynamic, label='Total Supply', color='#2dff73')\n",
    "    plt.axhline(y=max_supply, color='#39FF14', linestyle='--', label='Max Supply')\n",
    "    plt.title('Total Supply of DGYM Over Time', color='#ffffff')\n",
    "    plt.xlabel('Months', color='#ffffff')\n",
    "    plt.ylabel('Total Supply', color='#ffffff')\n",
    "    plt.xticks(color='#ffffff')\n",
    "    plt.yticks(color='#ffffff')\n",
    "    plt.legend()\n",
    "    plt.grid(True, which='both', linestyle='--', linewidth=0.5)\n",
    "    plt.ylim(initial_supply, max_supply)\n",
    "    plt.gca().set_facecolor('#000000')\n",
    "    plt.show()"
   ]
  },
  {
   "cell_type": "code",
   "execution_count": 20,
   "metadata": {},
   "outputs": [
    {
     "data": {
      "application/vnd.jupyter.widget-view+json": {
       "model_id": "daeac243100643939c6924664f9d499c",
       "version_major": 2,
       "version_minor": 0
      },
      "text/plain": [
       "interactive(children=(DatePicker(value=datetime.datetime(2024, 1, 1, 0, 0), description='TGE Date', step=1), F…"
      ]
     },
     "metadata": {},
     "output_type": "display_data"
    }
   ],
   "source": [
    "def interactive_plot(tge_date, decay_constant, time_horizon):\n",
    "    df = create_emission_schedule_df(initial_supply, max_supply, decay_constant, time_horizon, tge_date)\n",
    "    styled_df = style_dataframe(df)\n",
    "    display(styled_df)\n",
    "    plot_total_supply(df, decay_constant, time_horizon)\n",
    "\n",
    "interact(interactive_plot,\n",
    "         tge_date=DatePicker(value=tge_date, description='TGE Date'),\n",
    "         decay_constant=FloatSlider(value=decay_constant, min=0.001, max=1.0, step=0.01, description='Decay Constant'),\n",
    "         time_horizon=FloatSlider(value=180, min=1, max=180, step=1, description='Time Horizon (months)')\n",
    "        );\n"
   ]
  }
 ],
 "metadata": {
  "kernelspec": {
   "display_name": ".venv",
   "language": "python",
   "name": "python3"
  },
  "language_info": {
   "codemirror_mode": {
    "name": "ipython",
    "version": 3
   },
   "file_extension": ".py",
   "mimetype": "text/x-python",
   "name": "python",
   "nbconvert_exporter": "python",
   "pygments_lexer": "ipython3",
   "version": "3.10.12"
  }
 },
 "nbformat": 4,
 "nbformat_minor": 2
}
