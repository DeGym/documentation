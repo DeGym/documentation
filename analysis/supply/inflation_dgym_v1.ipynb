{
 "cells": [
  {
   "cell_type": "code",
   "execution_count": 48,
   "metadata": {},
   "outputs": [],
   "source": [
    "import numpy as np\n",
    "import matplotlib.pyplot as plt\n",
    "from ipywidgets import interact, FloatSlider, Checkbox\n",
    "import ipywidgets as widgets\n"
   ]
  },
  {
   "cell_type": "markdown",
   "metadata": {},
   "source": [
    "### Parameters"
   ]
  },
  {
   "cell_type": "code",
   "execution_count": 49,
   "metadata": {},
   "outputs": [],
   "source": [
    "initial_inflation_rate = 0.50  # 50%\n",
    "asymptote_inflation_rate = 0.01  # 1%\n",
    "initial_supply = 1_000_000_000  # Initial supply of DGYM"
   ]
  },
  {
   "cell_type": "markdown",
   "metadata": {},
   "source": [
    "### Decay functions for inflation rate"
   ]
  },
  {
   "cell_type": "code",
   "execution_count": 50,
   "metadata": {},
   "outputs": [],
   "source": [
    "def exponential_decay(t, initial_rate, asymptote_rate, decay_constant):\n",
    "    return asymptote_rate + (initial_rate - asymptote_rate) * np.exp(-decay_constant * t)\n",
    "\n",
    "def logarithmic_decay(t, initial_rate, asymptote_rate, decay_constant):\n",
    "    return asymptote_rate + (initial_rate - asymptote_rate) / (1 + decay_constant * np.log1p(t))\n",
    "\n",
    "def linear_decay(t, initial_rate, asymptote_rate, decay_constant):\n",
    "    return np.maximum(asymptote_rate, initial_rate - decay_constant * t)"
   ]
  },
  {
   "cell_type": "markdown",
   "metadata": {},
   "source": [
    "### Plotting function"
   ]
  },
  {
   "cell_type": "code",
   "execution_count": 51,
   "metadata": {},
   "outputs": [],
   "source": [
    "def plot_inflation_rate_and_supply(initial_rate, asymptote_rate, decay_constant, show_exp, show_log, show_lin):\n",
    "    # Time (years)\n",
    "    years = np.linspace(0, 20, 1000)\n",
    "    \n",
    "    # Inflation rates over time\n",
    "    exp_inflation = exponential_decay(years, initial_rate, asymptote_rate, decay_constant)\n",
    "    log_inflation = logarithmic_decay(years, initial_rate, asymptote_rate, decay_constant)\n",
    "    lin_inflation = linear_decay(years, initial_rate, asymptote_rate, decay_constant)\n",
    "    \n",
    "    # Calculate the supply over time\n",
    "    exp_supply = [initial_supply]\n",
    "    log_supply = [initial_supply]\n",
    "    lin_supply = [initial_supply]\n",
    "    \n",
    "    for i in range(1, len(years)):\n",
    "        exp_supply.append(exp_supply[-1] * (1 + exp_inflation[i]))\n",
    "        log_supply.append(log_supply[-1] * (1 + log_inflation[i]))\n",
    "        lin_supply.append(lin_supply[-1] * (1 + lin_inflation[i]))\n",
    "    \n",
    "    exp_supply = np.array(exp_supply)\n",
    "    log_supply = np.array(log_supply)\n",
    "    lin_supply = np.array(lin_supply)\n",
    "    \n",
    "    # Determine y-axis limits\n",
    "    max_inflation_rate = max(exp_inflation.max() if show_exp else 0,\n",
    "                             log_inflation.max() if show_log else 0,\n",
    "                             lin_inflation.max() if show_lin else 0) * 100\n",
    "                             \n",
    "    max_supply = max(exp_supply.max() if show_exp else 0,\n",
    "                     log_supply.max() if show_log else 0,\n",
    "                     lin_supply.max() if show_lin else 0)\n",
    "\n",
    "    # Plotting Inflation Rates\n",
    "    plt.figure(figsize=(12, 8))\n",
    "    plt.subplot(2, 1, 1)\n",
    "    if show_exp:\n",
    "        plt.plot(years, exp_inflation * 100, label='Exponential Decay')\n",
    "    if show_log:\n",
    "        plt.plot(years, log_inflation * 100, label='Logarithmic Decay')\n",
    "    if show_lin:\n",
    "        plt.plot(years, lin_inflation * 100, label='Linear Decay')\n",
    "    plt.axhline(y=asymptote_rate * 100, color='r', linestyle='--', label='Asymptote (1%)')\n",
    "    plt.title('Comparison of Inflation Rate Decay Over Time')\n",
    "    plt.xlabel('Years')\n",
    "    plt.ylabel('Inflation Rate (%)')\n",
    "    plt.legend()\n",
    "    plt.grid(True)\n",
    "    plt.ylim(0, max(55, max_inflation_rate * 1.1))  # Dynamically set y-axis limit for inflation rate\n",
    "    \n",
    "    # Plotting Supply\n",
    "    plt.subplot(2, 1, 2)\n",
    "    if show_exp:\n",
    "        plt.plot(years, exp_supply / 1e9, label='Exponential Decay')\n",
    "    if show_log:\n",
    "        plt.plot(years, log_supply / 1e9, label='Logarithmic Decay')\n",
    "    if show_lin:\n",
    "        plt.plot(years, lin_supply / 1e9, label='Linear Decay')\n",
    "    plt.title('Supply of DGYM Over Time')\n",
    "    plt.xlabel('Years')\n",
    "    plt.ylabel('Supply of DGYM (in billions)')\n",
    "    plt.legend()\n",
    "    plt.grid(True)\n",
    "    plt.ylim(initial_supply / 1e9, max_supply / 1e9 * 1.1)  # Dynamically set y-axis limit for supply\n",
    "    \n",
    "    plt.tight_layout()\n",
    "    plt.show()\n"
   ]
  },
  {
   "cell_type": "markdown",
   "metadata": {},
   "source": [
    "##### Display"
   ]
  },
  {
   "cell_type": "code",
   "execution_count": 52,
   "metadata": {},
   "outputs": [
    {
     "data": {
      "application/vnd.jupyter.widget-view+json": {
       "model_id": "0e84b62f73f84e0fa21b7fb2b7a4afc6",
       "version_major": 2,
       "version_minor": 0
      },
      "text/plain": [
       "interactive(children=(FloatSlider(value=0.5, description='Initial Rate', max=0.5, min=0.01, step=0.01), FloatS…"
      ]
     },
     "metadata": {},
     "output_type": "display_data"
    },
    {
     "data": {
      "text/plain": [
       "<function __main__.plot_inflation_rate_and_supply(initial_rate, asymptote_rate, decay_constant, show_exp, show_log, show_lin)>"
      ]
     },
     "execution_count": 52,
     "metadata": {},
     "output_type": "execute_result"
    }
   ],
   "source": [
    "initial_rate_slider = FloatSlider(value=0.50, min=0.01, max=0.50, step=0.01, description='Initial Rate')\n",
    "asymptote_rate_slider = FloatSlider(value=0.01, min=0.001, max=0.50, step=0.001, description='Asymptote Rate')\n",
    "decay_constant_slider = FloatSlider(value=1.0, min=0.01, max=2.0, step=0.01, description='Decay Constant')\n",
    "show_exp_checkbox = Checkbox(value=True, description='Show Exponential Decay')\n",
    "show_log_checkbox = Checkbox(value=True, description='Show Logarithmic Decay')\n",
    "show_lin_checkbox = Checkbox(value=True, description='Show Linear Decay')\n",
    "\n",
    "interact(plot_inflation_rate_and_supply, \n",
    "         initial_rate=initial_rate_slider, \n",
    "         asymptote_rate=asymptote_rate_slider, \n",
    "         decay_constant=decay_constant_slider, \n",
    "         show_exp=show_exp_checkbox, \n",
    "         show_log=show_log_checkbox, \n",
    "         show_lin=show_lin_checkbox)\n"
   ]
  }
 ],
 "metadata": {
  "kernelspec": {
   "display_name": "Python 3",
   "language": "python",
   "name": "python3"
  },
  "language_info": {
   "codemirror_mode": {
    "name": "ipython",
    "version": 3
   },
   "file_extension": ".py",
   "mimetype": "text/x-python",
   "name": "python",
   "nbconvert_exporter": "python",
   "pygments_lexer": "ipython3",
   "version": "3.10.12"
  }
 },
 "nbformat": 4,
 "nbformat_minor": 2
}
