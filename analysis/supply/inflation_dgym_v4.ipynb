{
 "cells": [
  {
   "cell_type": "markdown",
   "metadata": {},
   "source": [
    "## Inflation analysis with token distribution"
   ]
  },
  {
   "cell_type": "code",
   "execution_count": 17,
   "metadata": {},
   "outputs": [],
   "source": [
    "import matplotlib.pyplot as plt\n",
    "import pandas as pd\n",
    "import numpy as np\n",
    "import ipywidgets as widgets\n",
    "from ipywidgets import interact\n",
    "import math"
   ]
  },
  {
   "cell_type": "markdown",
   "metadata": {},
   "source": [
    "#### Constants"
   ]
  },
  {
   "cell_type": "code",
   "execution_count": 18,
   "metadata": {},
   "outputs": [],
   "source": [
    "initial_supply = 1e9\n",
    "max_supply = 1e10\n",
    "total_supply = 1e10\n",
    "decay_constant = 0.5\n",
    "\n",
    "# Token Distribution Percentages\n",
    "distribution_percentages = {\n",
    "    \"Seed Sales\": 9,\n",
    "    \"Private Sales\": 15.1,\n",
    "    \"Public Sales\": 11.8,\n",
    "    \"Team\": 15,\n",
    "    \"Foundation\": 20,\n",
    "    \"Community & Ecosystem\": 28.4,\n",
    "    \"Exchange Security Deposit\": 0.65\n",
    "}"
   ]
  },
  {
   "cell_type": "code",
   "execution_count": 19,
   "metadata": {},
   "outputs": [],
   "source": [
    "# Dynamic Inflation Function\n",
    "def dynamic_inflation(t, current_supply, max_supply, decay_constant):\n",
    "    remaining_supply_ratio = (max_supply - current_supply) / max_supply\n",
    "    inflation_rate = decay_constant * remaining_supply_ratio\n",
    "    return inflation_rate\n",
    "\n",
    "# Calculate Supply Based on Dynamic Inflation\n",
    "def calculate_supply_dynamic(initial_supply, max_supply, decay_constant, time_horizon):\n",
    "    supply = [initial_supply]\n",
    "    for t in range(1, int(time_horizon) + 1):\n",
    "        current_supply = supply[-1]\n",
    "        inflation_rate = dynamic_inflation(t, current_supply, max_supply, decay_constant)\n",
    "        new_supply = current_supply * (1 + inflation_rate)\n",
    "        supply.append(min(new_supply, max_supply))\n",
    "    return np.array(supply)\n",
    "\n",
    "# Calculate Vesting Schedule\n",
    "def calculate_vesting_schedule(tge_percentage, vesting_months, cliff_months):\n",
    "    pre_seed_allocation = total_supply * (distribution_percentages[\"Seed Sales\"] / 100)\n",
    "    tge_unlocked_tokens = pre_seed_allocation * (tge_percentage / 100)\n",
    "    monthly_vesting_tokens = (pre_seed_allocation - tge_unlocked_tokens) / vesting_months\n",
    "\n",
    "    months = np.arange(0, vesting_months + cliff_months + 1)\n",
    "    tokens = np.zeros_like(months, dtype=float)\n",
    "    tokens[0] = tge_unlocked_tokens\n",
    "    tokens[cliff_months + 1:] = monthly_vesting_tokens\n",
    "\n",
    "    df = pd.DataFrame({\n",
    "        'Month': months,\n",
    "        'Tokens Unlocked': tokens,\n",
    "        'Cumulative Tokens': np.cumsum(tokens)\n",
    "    })\n",
    "    \n",
    "    return df"
   ]
  },
  {
   "cell_type": "markdown",
   "metadata": {},
   "source": [
    "#### Plots"
   ]
  },
  {
   "cell_type": "code",
   "execution_count": 20,
   "metadata": {},
   "outputs": [],
   "source": [
    "# Plot Vesting Schedule\n",
    "def plot_vesting_schedule(tge_percentage, vesting_months, cliff_months):\n",
    "    df = calculate_vesting_schedule(tge_percentage, vesting_months, cliff_months)\n",
    "    \n",
    "    plt.figure(figsize=(12, 6))\n",
    "    plt.plot(df['Month'], df['Cumulative Tokens'], marker='o', linestyle='-', color='b')\n",
    "    plt.title('DeGym Pre-Seed Token Vesting Schedule')\n",
    "    plt.xlabel('Month')\n",
    "    plt.ylabel('Cumulative Tokens Unlocked')\n",
    "    plt.xticks(df['Month'])\n",
    "    plt.grid(True)\n",
    "    plt.show()\n",
    "    \n",
    "    display(df)\n",
    "\n",
    "# Function to Plot Combined Data\n",
    "def plot_combined_data(tge_percentage, vesting_months, cliff_months, decay_constant):\n",
    "    time_horizon = 180  # 15 years in months\n",
    "    \n",
    "    # Calculate Vesting Schedule\n",
    "    vesting_df = calculate_vesting_schedule(tge_percentage, vesting_months, cliff_months)\n",
    "    \n",
    "    # Calculate Inflation\n",
    "    months = np.arange(0, time_horizon + 1)\n",
    "    supply_dynamic = calculate_supply_dynamic(initial_supply, max_supply, decay_constant, time_horizon)\n",
    "    \n",
    "    # Combine Data\n",
    "    initial_distribution = {k: v / 100 * initial_supply for k, v in distribution_percentages.items()}\n",
    "    community_tokens = [initial_distribution[\"Community & Ecosystem\"]]\n",
    "    for t in range(1, len(supply_dynamic)):\n",
    "        community_tokens.append(community_tokens[-1] + (supply_dynamic[t] - supply_dynamic[t - 1]))\n",
    "    \n",
    "    combined_df = pd.DataFrame({\n",
    "        'Month': months,\n",
    "        'Total Supply': supply_dynamic,\n",
    "        'Community & Ecosystem Tokens': community_tokens\n",
    "    })\n",
    "    \n",
    "    for category, percentage in distribution_percentages.items():\n",
    "        if category != \"Community & Ecosystem\":\n",
    "            combined_df[category + ' Tokens'] = percentage / 100 * supply_dynamic[0]\n",
    "    \n",
    "    # Plot Combined Data\n",
    "    plt.figure(figsize=(12, 8))\n",
    "    \n",
    "    plt.plot(combined_df['Month'], combined_df['Total Supply'], label='Total Supply', color='tab:blue')\n",
    "    plt.plot(combined_df['Month'], combined_df['Community & Ecosystem Tokens'], label='Community & Ecosystem Tokens', color='tab:green')\n",
    "    \n",
    "    for category, percentage in distribution_percentages.items():\n",
    "        if category != \"Community & Ecosystem\":\n",
    "            plt.plot(combined_df['Month'], combined_df[category + ' Tokens'], label=category + ' Tokens')\n",
    "    \n",
    "    plt.xlabel('Time (Months)')\n",
    "    plt.ylabel('Tokens')\n",
    "    plt.title('Token Distribution Over Time with Inflation')\n",
    "    plt.legend()\n",
    "    plt.grid(True)\n",
    "    plt.show()\n",
    "    \n",
    "    display(combined_df)"
   ]
  },
  {
   "cell_type": "code",
   "execution_count": 21,
   "metadata": {},
   "outputs": [
    {
     "data": {
      "application/vnd.jupyter.widget-view+json": {
       "model_id": "a2137b5aece34b81a88a513e6f191234",
       "version_major": 2,
       "version_minor": 0
      },
      "text/plain": [
       "interactive(children=(IntSlider(value=10, description='TGE %', step=5), IntSlider(value=12, description='Vesti…"
      ]
     },
     "metadata": {},
     "output_type": "display_data"
    }
   ],
   "source": [
    "interact(plot_combined_data,\n",
    "         tge_percentage=widgets.IntSlider(min=0, max=100, step=5, value=10, description='TGE %'),\n",
    "         vesting_months=widgets.IntSlider(min=1, max=24, step=1, value=12, description='Vesting Months'),\n",
    "         cliff_months=widgets.IntSlider(min=0, max=12, step=1, value=3, description='Cliff Months'),\n",
    "         decay_constant=widgets.FloatSlider(min=0.01, max=1.0, step=0.01, value=decay_constant, description='Decay Constant')\n",
    "        );\n"
   ]
  }
 ],
 "metadata": {
  "kernelspec": {
   "display_name": ".venv",
   "language": "python",
   "name": "python3"
  },
  "language_info": {
   "codemirror_mode": {
    "name": "ipython",
    "version": 3
   },
   "file_extension": ".py",
   "mimetype": "text/x-python",
   "name": "python",
   "nbconvert_exporter": "python",
   "pygments_lexer": "ipython3",
   "version": "3.10.12"
  }
 },
 "nbformat": 4,
 "nbformat_minor": 2
}
