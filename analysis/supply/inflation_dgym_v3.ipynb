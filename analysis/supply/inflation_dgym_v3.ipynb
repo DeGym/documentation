{
 "cells": [
  {
   "cell_type": "code",
   "execution_count": 1,
   "metadata": {},
   "outputs": [],
   "source": [
    "import numpy as np\n",
    "import matplotlib.pyplot as plt\n",
    "from ipywidgets import interact, FloatSlider\n",
    "import ipywidgets as widgets"
   ]
  },
  {
   "cell_type": "markdown",
   "metadata": {},
   "source": [
    "### Parameters"
   ]
  },
  {
   "cell_type": "code",
   "execution_count": 2,
   "metadata": {},
   "outputs": [],
   "source": [
    "initial_supply = 1e9\n",
    "max_supply = 1e10"
   ]
  },
  {
   "cell_type": "markdown",
   "metadata": {},
   "source": [
    "### Calculate inflate rate"
   ]
  },
  {
   "cell_type": "code",
   "execution_count": 3,
   "metadata": {},
   "outputs": [],
   "source": [
    "# Dynamically adjusted inflation function\n",
    "def dynamic_inflation(t, current_supply, max_supply, decay_constant):\n",
    "    remaining_supply_ratio = (max_supply - current_supply) / max_supply\n",
    "    inflation_rate = decay_constant * remaining_supply_ratio\n",
    "    return inflation_rate\n",
    "\n",
    "# Function to calculate supply based on dynamic inflation rate\n",
    "def calculate_supply_dynamic(initial_supply, max_supply, decay_constant, time_horizon):\n",
    "    supply = [initial_supply]\n",
    "    for t in range(1, int(time_horizon) + 1):\n",
    "        current_supply = supply[-1]\n",
    "        inflation_rate = dynamic_inflation(t, current_supply, max_supply, decay_constant)\n",
    "        new_supply = current_supply * (1 + inflation_rate)\n",
    "        supply.append(min(new_supply, max_supply))\n",
    "    return np.array(supply)"
   ]
  },
  {
   "cell_type": "markdown",
   "metadata": {},
   "source": [
    "### Plot function"
   ]
  },
  {
   "cell_type": "code",
   "execution_count": 4,
   "metadata": {},
   "outputs": [],
   "source": [
    "def plot_inflation_rate_and_supply_dynamic(decay_constant, time_horizon):\n",
    "    # Time (years)\n",
    "    years = np.arange(0, int(time_horizon) + 1)\n",
    "    \n",
    "    # Supply and inflation rates over time\n",
    "    supply_dynamic = calculate_supply_dynamic(initial_supply, max_supply, decay_constant, time_horizon)\n",
    "    inflation_rates_dynamic = [dynamic_inflation(t, supply_dynamic[t], max_supply, decay_constant) for t in range(int(time_horizon))]\n",
    "    \n",
    "    # Plotting Inflation Rates\n",
    "    plt.figure(figsize=(12, 12))\n",
    "    plt.subplot(2, 1, 1)\n",
    "    plt.plot(years[:-1], inflation_rates_dynamic, label='Dynamic Inflation Rate')\n",
    "    plt.axhline(y=0, color='r', linestyle='--', label='Zero Inflation')\n",
    "    plt.title('Dynamic Inflation Rate Over Time')\n",
    "    plt.xlabel('Years')\n",
    "    plt.ylabel('Inflation Rate')\n",
    "    plt.legend()\n",
    "    plt.grid(True)\n",
    "    \n",
    "    # Plotting Supply\n",
    "    plt.subplot(2, 1, 2)\n",
    "    plt.plot(years, supply_dynamic, label='Dynamic Supply')\n",
    "    plt.axhline(y=max_supply, color='r', linestyle='--', label='Max Supply')\n",
    "    plt.title('Supply of DGYM Over Time')\n",
    "    plt.xlabel('Years')\n",
    "    plt.ylabel('Supply of DGYM')\n",
    "    plt.legend()\n",
    "    plt.grid(True)\n",
    "    plt.ylim(initial_supply, max_supply)\n",
    "    \n",
    "    plt.tight_layout()\n",
    "    plt.show()\n"
   ]
  },
  {
   "cell_type": "markdown",
   "metadata": {},
   "source": [
    "### Display"
   ]
  },
  {
   "cell_type": "code",
   "execution_count": 5,
   "metadata": {},
   "outputs": [
    {
     "data": {
      "application/vnd.jupyter.widget-view+json": {
       "model_id": "445aaccdf00f4e5d89a100c22ead61e9",
       "version_major": 2,
       "version_minor": 0
      },
      "text/plain": [
       "interactive(children=(FloatSlider(value=0.8, description='Decay Constant', max=1.0, min=0.001, step=0.01), Flo…"
      ]
     },
     "metadata": {},
     "output_type": "display_data"
    },
    {
     "data": {
      "text/plain": [
       "<function __main__.plot_inflation_rate_and_supply_dynamic(decay_constant, time_horizon)>"
      ]
     },
     "execution_count": 5,
     "metadata": {},
     "output_type": "execute_result"
    }
   ],
   "source": [
    "decay_constant_slider = FloatSlider(value=0.80, min=0.001, max=1.0, step=0.01, description='Decay Constant')\n",
    "time_horizon_slider = FloatSlider(value=12, min=1, max=60, step=1, description='Time Horizon (years)')\n",
    "\n",
    "interact(plot_inflation_rate_and_supply_dynamic, \n",
    "         decay_constant=decay_constant_slider,\n",
    "         time_horizon=time_horizon_slider)\n"
   ]
  }
 ],
 "metadata": {
  "kernelspec": {
   "display_name": ".venv",
   "language": "python",
   "name": "python3"
  },
  "language_info": {
   "codemirror_mode": {
    "name": "ipython",
    "version": 3
   },
   "file_extension": ".py",
   "mimetype": "text/x-python",
   "name": "python",
   "nbconvert_exporter": "python",
   "pygments_lexer": "ipython3",
   "version": "3.10.12"
  }
 },
 "nbformat": 4,
 "nbformat_minor": 2
}
