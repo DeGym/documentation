{
 "cells": [
  {
   "cell_type": "code",
   "execution_count": 1,
   "metadata": {},
   "outputs": [],
   "source": [
    "import numpy as np\n",
    "import matplotlib.pyplot as plt\n",
    "from ipywidgets import interact, FloatSlider\n",
    "import ipywidgets as widgets\n"
   ]
  },
  {
   "cell_type": "markdown",
   "metadata": {},
   "source": [
    "### Parameters"
   ]
  },
  {
   "cell_type": "code",
   "execution_count": 2,
   "metadata": {},
   "outputs": [],
   "source": [
    "initial_inflation_rate = 0.50  # 50%\n",
    "asymptote_inflation_rate = 0.01  # 1%"
   ]
  },
  {
   "cell_type": "markdown",
   "metadata": {},
   "source": [
    "### Decay functions for inflation rate"
   ]
  },
  {
   "cell_type": "code",
   "execution_count": 3,
   "metadata": {},
   "outputs": [],
   "source": [
    "def exponential_decay(t, initial_rate, asymptote_rate, decay_constant):\n",
    "    return asymptote_rate + (initial_rate - asymptote_rate) * np.exp(-decay_constant * t)\n",
    "\n",
    "# Logarithmic decay function\n",
    "def logarithmic_decay(t, initial_rate, asymptote_rate, decay_constant):\n",
    "    return asymptote_rate + (initial_rate - asymptote_rate) / (1 + decay_constant * np.log1p(t))\n",
    "\n",
    "# Linear decay function\n",
    "def linear_decay(t, initial_rate, asymptote_rate, decay_constant):\n",
    "    return np.maximum(asymptote_rate, initial_rate - decay_constant * t)\n"
   ]
  },
  {
   "cell_type": "markdown",
   "metadata": {},
   "source": [
    "### Plotting function"
   ]
  },
  {
   "cell_type": "code",
   "execution_count": 4,
   "metadata": {},
   "outputs": [],
   "source": [
    "def plot_inflation_rate(initial_rate, asymptote_rate, decay_constant):\n",
    "    # Time (years)\n",
    "    years = np.linspace(0, 20, 1000)\n",
    "    \n",
    "    # Inflation rates over time\n",
    "    exp_inflation = exponential_decay(years, initial_rate, asymptote_rate, decay_constant)\n",
    "    log_inflation = logarithmic_decay(years, initial_rate, asymptote_rate, decay_constant)\n",
    "    lin_inflation = linear_decay(years, initial_rate, asymptote_rate, decay_constant)\n",
    "    \n",
    "    # Plotting\n",
    "    plt.figure(figsize=(12, 8))\n",
    "    plt.plot(years, exp_inflation * 100, label='Exponential Decay')\n",
    "    plt.plot(years, log_inflation * 100, label='Logarithmic Decay')\n",
    "    plt.plot(years, lin_inflation * 100, label='Linear Decay')\n",
    "    plt.axhline(y=asymptote_rate * 100, color='r', linestyle='--', label='Asymptote (1%)')\n",
    "    plt.title('Comparison of Inflation Rate Decay Over Time')\n",
    "    plt.xlabel('Years')\n",
    "    plt.ylabel('Inflation Rate (%)')\n",
    "    plt.legend()\n",
    "    plt.grid(True)\n",
    "    plt.ylim(0, 60)  # Set y-axis limit to 0-60%\n",
    "    plt.show()\n"
   ]
  },
  {
   "cell_type": "markdown",
   "metadata": {},
   "source": [
    "##### Display"
   ]
  },
  {
   "cell_type": "code",
   "execution_count": 5,
   "metadata": {},
   "outputs": [
    {
     "data": {
      "application/vnd.jupyter.widget-view+json": {
       "model_id": "bd815b67f9e644298023e4d850b29763",
       "version_major": 2,
       "version_minor": 0
      },
      "text/plain": [
       "interactive(children=(FloatSlider(value=0.5, description='Initial Rate', max=1.0, min=0.01, step=0.01), FloatS…"
      ]
     },
     "metadata": {},
     "output_type": "display_data"
    },
    {
     "data": {
      "text/plain": [
       "<function __main__.plot_inflation_rate(initial_rate, asymptote_rate, decay_constant)>"
      ]
     },
     "execution_count": 5,
     "metadata": {},
     "output_type": "execute_result"
    }
   ],
   "source": [
    "initial_rate_slider = FloatSlider(value=0.50, min=0.01, max=1.0, step=0.01, description='Initial Rate')\n",
    "asymptote_rate_slider = FloatSlider(value=0.01, min=0.001, max=0.10, step=0.001, description='Asymptote Rate')\n",
    "decay_constant_slider = FloatSlider(value=0.5, min=0.01, max=2.0, step=0.01, description='Decay Constant')\n",
    "\n",
    "interact(plot_inflation_rate, initial_rate=initial_rate_slider, asymptote_rate=asymptote_rate_slider, decay_constant=decay_constant_slider)"
   ]
  }
 ],
 "metadata": {
  "kernelspec": {
   "display_name": "Python 3",
   "language": "python",
   "name": "python3"
  },
  "language_info": {
   "codemirror_mode": {
    "name": "ipython",
    "version": 3
   },
   "file_extension": ".py",
   "mimetype": "text/x-python",
   "name": "python",
   "nbconvert_exporter": "python",
   "pygments_lexer": "ipython3",
   "version": "3.10.12"
  }
 },
 "nbformat": 4,
 "nbformat_minor": 2
}
