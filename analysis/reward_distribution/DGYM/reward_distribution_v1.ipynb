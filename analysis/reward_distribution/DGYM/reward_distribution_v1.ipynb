{
 "cells": [
  {
   "cell_type": "markdown",
   "metadata": {},
   "source": [
    "# Reward Distribution MODEL V1\n",
    "\n",
    "This first model has a max_duration on staking contract"
   ]
  },
  {
   "cell_type": "code",
   "execution_count": 3,
   "metadata": {},
   "outputs": [],
   "source": [
    "import numpy as np"
   ]
  },
  {
   "cell_type": "markdown",
   "metadata": {},
   "source": [
    "### Hypothetical user data: (stake_amount, lock_duration in weeks)"
   ]
  },
  {
   "cell_type": "code",
   "execution_count": 4,
   "metadata": {},
   "outputs": [],
   "source": [
    "users = [\n",
    "    (1000, 4),\n",
    "    (1500, 10),\n",
    "    (1200, 20),\n",
    "    (800, 52),\n",
    "    (2000, 1)\n",
    "]"
   ]
  },
  {
   "cell_type": "markdown",
   "metadata": {},
   "source": [
    "### Parameters"
   ]
  },
  {
   "cell_type": "code",
   "execution_count": 5,
   "metadata": {},
   "outputs": [],
   "source": [
    "total_rewards = 10000  # Total rewards to distribute\n",
    "max_duration = 52  # Maximum lock duration in weeks"
   ]
  },
  {
   "cell_type": "markdown",
   "metadata": {},
   "source": [
    "### Calculate weighted stakes"
   ]
  },
  {
   "cell_type": "code",
   "execution_count": 6,
   "metadata": {},
   "outputs": [],
   "source": [
    "weighted_stakes = [(stake * (1 + duration / max_duration)) for stake, duration in users]\n",
    "total_weighted_stake = sum(weighted_stakes)"
   ]
  },
  {
   "cell_type": "markdown",
   "metadata": {},
   "source": [
    "### Calculate each user's share and reward"
   ]
  },
  {
   "cell_type": "code",
   "execution_count": 7,
   "metadata": {},
   "outputs": [],
   "source": [
    "rewards = [(stake, duration, weighted_stake, weighted_stake / total_weighted_stake * total_rewards)\n",
    "           for (stake, duration), weighted_stake in zip(users, weighted_stakes)]"
   ]
  },
  {
   "cell_type": "markdown",
   "metadata": {},
   "source": [
    "##### Display"
   ]
  },
  {
   "cell_type": "code",
   "execution_count": 8,
   "metadata": {},
   "outputs": [
    {
     "name": "stdout",
     "output_type": "stream",
     "text": [
      "Stake\tDuration\tWeighted Stake\tReward\n",
      "1000\t4\t1076.92\t\t1318.89\n",
      "1500\t10\t1788.46\t\t2190.30\n",
      "1200\t20\t1661.54\t\t2034.86\n",
      "800\t52\t1600.00\t\t1959.49\n",
      "2000\t1\t2038.46\t\t2496.47\n"
     ]
    }
   ],
   "source": [
    "print(\"Stake\\tDuration\\tWeighted Stake\\tReward\")\n",
    "for stake, duration, weighted_stake, reward in rewards:\n",
    "    print(f\"{stake}\\t{duration}\\t{weighted_stake:.2f}\\t\\t{reward:.2f}\")\n"
   ]
  }
 ],
 "metadata": {
  "kernelspec": {
   "display_name": "Python 3",
   "language": "python",
   "name": "python3"
  },
  "language_info": {
   "codemirror_mode": {
    "name": "ipython",
    "version": 3
   },
   "file_extension": ".py",
   "mimetype": "text/x-python",
   "name": "python",
   "nbconvert_exporter": "python",
   "pygments_lexer": "ipython3",
   "version": "3.10.12"
  }
 },
 "nbformat": 4,
 "nbformat_minor": 2
}
