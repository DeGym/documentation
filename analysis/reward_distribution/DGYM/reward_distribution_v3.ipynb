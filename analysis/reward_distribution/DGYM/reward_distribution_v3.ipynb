{
 "cells": [
  {
   "cell_type": "markdown",
   "metadata": {},
   "source": [
    "# Reward Distribution MODEL V2\n",
    "\n",
    "This first model has no max_duration on staking contract"
   ]
  },
  {
   "cell_type": "code",
   "execution_count": 21,
   "metadata": {},
   "outputs": [],
   "source": [
    "import numpy as np\n",
    "import pandas as pd\n",
    "import matplotlib.pyplot as plt\n",
    "import ipywidgets as widgets\n",
    "from ipywidgets import interact\n",
    "\n"
   ]
  },
  {
   "cell_type": "markdown",
   "metadata": {},
   "source": [
    "### Parameters "
   ]
  },
  {
   "cell_type": "code",
   "execution_count": 22,
   "metadata": {},
   "outputs": [],
   "source": [
    "total_rewards = 10000\n",
    "bond_pools = [\n",
    "    [\n",
    "        {\"amount\": 1000, \"remainingDuration\": 4},\n",
    "        {\"amount\": 1500, \"remainingDuration\": 10},\n",
    "    ],\n",
    "    [\n",
    "        {\"amount\": 1200, \"remainingDuration\": 20},\n",
    "        {\"amount\": 800, \"remainingDuration\": 52},\n",
    "    ],\n",
    "    [\n",
    "        {\"amount\": 2000, \"remainingDuration\": 1},\n",
    "    ],\n",
    "    [\n",
    "        {\"amount\": 500, \"remainingDuration\": 5},\n",
    "        {\"amount\": 700, \"remainingDuration\": 15},\n",
    "        {\"amount\": 900, \"remainingDuration\": 25},\n",
    "    ],\n",
    "]\n",
    "\n"
   ]
  },
  {
   "cell_type": "code",
   "execution_count": 23,
   "metadata": {},
   "outputs": [],
   "source": [
    "# Function to calculate weighted stakes\n",
    "def calculate_weighted_stakes(bond_pools):\n",
    "    weighted_stakes = []\n",
    "    for pool in bond_pools:\n",
    "        pool_weighted_stakes = []\n",
    "        for bond in pool:\n",
    "            weight = np.log(bond[\"remainingDuration\"] + 1)\n",
    "            weighted_stake = bond[\"amount\"] * weight\n",
    "            pool_weighted_stakes.append(weighted_stake)\n",
    "        weighted_stakes.append(pool_weighted_stakes)\n",
    "    return weighted_stakes\n",
    "\n",
    "# Function to normalize weights\n",
    "def normalize_weights(weighted_stakes):\n",
    "    total_weighted_stakes = sum([sum(pool) for pool in weighted_stakes])\n",
    "    normalized_weights = [[stake / total_weighted_stakes for stake in pool] for pool in weighted_stakes]\n",
    "    return normalized_weights\n",
    "\n",
    "# Function to distribute rewards\n",
    "def distribute_rewards(normalized_weights, total_rewards):\n",
    "    rewards = [[weight * total_rewards for weight in pool] for pool in normalized_weights]\n",
    "    return rewards\n",
    "\n",
    "# Function to calculate total weighted stakes\n",
    "def total_weighted_stakes(weighted_stakes):\n",
    "    return sum([sum(pool) for pool in weighted_stakes])"
   ]
  },
  {
   "cell_type": "markdown",
   "metadata": {},
   "source": [
    "### Display"
   ]
  },
  {
   "cell_type": "code",
   "execution_count": 24,
   "metadata": {},
   "outputs": [],
   "source": [
    "def display_weighted_stakes(bond_pools):\n",
    "    weighted_stakes = calculate_weighted_stakes(bond_pools)\n",
    "    return pd.DataFrame(weighted_stakes)\n",
    "\n",
    "def display_normalized_weights(bond_pools):\n",
    "    weighted_stakes = calculate_weighted_stakes(bond_pools)\n",
    "    normalized_weights = normalize_weights(weighted_stakes)\n",
    "    return pd.DataFrame(normalized_weights)\n",
    "\n",
    "def display_rewards(bond_pools, total_rewards):\n",
    "    weighted_stakes = calculate_weighted_stakes(bond_pools)\n",
    "    normalized_weights = normalize_weights(weighted_stakes)\n",
    "    rewards = distribute_rewards(normalized_weights, total_rewards)\n",
    "    return pd.DataFrame(rewards)\n",
    "\n",
    "def display_total_weighted_stakes(bond_pools):\n",
    "    weighted_stakes = calculate_weighted_stakes(bond_pools)\n",
    "    return total_weighted_stakes(weighted_stakes)"
   ]
  },
  {
   "cell_type": "markdown",
   "metadata": {},
   "source": [
    "#### Tests"
   ]
  },
  {
   "cell_type": "code",
   "execution_count": 25,
   "metadata": {},
   "outputs": [
    {
     "name": "stdout",
     "output_type": "stream",
     "text": [
      "All tests passed!\n"
     ]
    }
   ],
   "source": [
    "# Testing functions\n",
    "def test_weights_and_rewards(bond_pools, total_rewards):\n",
    "    weighted_stakes = calculate_weighted_stakes(bond_pools)\n",
    "    normalized_weights = normalize_weights(weighted_stakes)\n",
    "    rewards = distribute_rewards(normalized_weights, total_rewards)\n",
    "\n",
    "    # Assert that all weights sum to 1\n",
    "    assert np.isclose(sum([sum(pool) for pool in normalized_weights]), 1.0), f\"Weights sum to {sum([sum(pool) for pool in normalized_weights])} instead of 1\"\n",
    "\n",
    "    # Assert that all rewards sum to total_rewards\n",
    "    total_distributed_rewards = sum([sum(pool) for pool in rewards])\n",
    "    assert np.isclose(total_distributed_rewards, total_rewards), f\"Total rewards sum to {total_distributed_rewards} instead of {total_rewards}\"\n",
    "\n",
    "    print(\"All tests passed!\")\n",
    "\n",
    "# Run tests\n",
    "test_weights_and_rewards(bond_pools, total_rewards)"
   ]
  },
  {
   "cell_type": "code",
   "execution_count": 26,
   "metadata": {},
   "outputs": [
    {
     "data": {
      "application/vnd.jupyter.widget-view+json": {
       "model_id": "6b0a6f04843e415084af29b8c0a2a588",
       "version_major": 2,
       "version_minor": 0
      },
      "text/plain": [
       "interactive(children=(Output(),), _dom_classes=('widget-interact',))"
      ]
     },
     "metadata": {},
     "output_type": "display_data"
    },
    {
     "data": {
      "application/vnd.jupyter.widget-view+json": {
       "model_id": "edb264ddc44e45e987464c13e2a5475d",
       "version_major": 2,
       "version_minor": 0
      },
      "text/plain": [
       "interactive(children=(Output(),), _dom_classes=('widget-interact',))"
      ]
     },
     "metadata": {},
     "output_type": "display_data"
    },
    {
     "data": {
      "application/vnd.jupyter.widget-view+json": {
       "model_id": "b3217f1cac954988ae7099b6cb7d2289",
       "version_major": 2,
       "version_minor": 0
      },
      "text/plain": [
       "interactive(children=(Output(),), _dom_classes=('widget-interact',))"
      ]
     },
     "metadata": {},
     "output_type": "display_data"
    },
    {
     "data": {
      "application/vnd.jupyter.widget-view+json": {
       "model_id": "0a102371d70142259757f285a3f37d2f",
       "version_major": 2,
       "version_minor": 0
      },
      "text/plain": [
       "interactive(children=(Output(),), _dom_classes=('widget-interact',))"
      ]
     },
     "metadata": {},
     "output_type": "display_data"
    }
   ],
   "source": [
    "def interactive_views(total_rewards):\n",
    "    bond_pools_widget = widgets.fixed(bond_pools)\n",
    "    total_rewards_widget = widgets.fixed(total_rewards)\n",
    "    \n",
    "    interact(display_weighted_stakes, bond_pools=bond_pools_widget)\n",
    "    interact(display_normalized_weights, bond_pools=bond_pools_widget)\n",
    "    interact(display_rewards, bond_pools=bond_pools_widget, total_rewards=total_rewards_widget)\n",
    "    interact(display_total_weighted_stakes, bond_pools=bond_pools_widget)\n",
    "\n",
    "# Call the interactive view\n",
    "interactive_views(total_rewards)\n"
   ]
  }
 ],
 "metadata": {
  "kernelspec": {
   "display_name": ".venv",
   "language": "python",
   "name": "python3"
  },
  "language_info": {
   "codemirror_mode": {
    "name": "ipython",
    "version": 3
   },
   "file_extension": ".py",
   "mimetype": "text/x-python",
   "name": "python",
   "nbconvert_exporter": "python",
   "pygments_lexer": "ipython3",
   "version": "3.10.12"
  }
 },
 "nbformat": 4,
 "nbformat_minor": 2
}
