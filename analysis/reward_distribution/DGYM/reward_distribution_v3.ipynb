{
 "cells": [
  {
   "cell_type": "markdown",
   "metadata": {},
   "source": [
    "# Reward Distribution MODEL V2\n",
    "\n",
    "This first model has no max_duration on staking contract"
   ]
  },
  {
   "cell_type": "code",
   "execution_count": 29,
   "metadata": {},
   "outputs": [],
   "source": [
    "import numpy as np\n",
    "import pandas as pd\n",
    "import matplotlib.pyplot as plt\n",
    "import ipywidgets as widgets\n",
    "from ipywidgets import interact\n",
    "\n"
   ]
  },
  {
   "cell_type": "markdown",
   "metadata": {},
   "source": [
    "### Parameters"
   ]
  },
  {
   "cell_type": "code",
   "execution_count": 30,
   "metadata": {},
   "outputs": [],
   "source": [
    "total_rewards = 10000\n",
    "stakeholders = {\n",
    "    'User1': [(1000, 4), (1500, 10)],\n",
    "    'User2': [(1200, 20), (800, 52)],\n",
    "    'User3': [(2000, 1)],\n",
    "    'User4': [(500, 5), (700, 15), (900, 25)]\n",
    "}\n"
   ]
  },
  {
   "cell_type": "code",
   "execution_count": 31,
   "metadata": {},
   "outputs": [],
   "source": [
    "# Function to calculate the weight of each stake based on the duration\n",
    "calculate_weight = lambda duration: np.log(duration + 1)\n",
    "\n",
    "# Calculate weighted stakes and distribute rewards\n",
    "def distribute_rewards(stakeholders, total_rewards):\n",
    "    all_stakes = []\n",
    "    for user, stakes in stakeholders.items():\n",
    "        for stake, duration in stakes:\n",
    "            weight = calculate_weight(duration)\n",
    "            all_stakes.append((user, stake, duration, weight, stake * weight))\n",
    "\n",
    "    # Normalize weights\n",
    "    total_weighted_stake = sum([stake_weight for _, _, _, _, stake_weight in all_stakes])\n",
    "    normalized_weights = [stake_weight / total_weighted_stake for _, _, _, _, stake_weight in all_stakes]\n",
    "\n",
    "    rewards_distribution = []\n",
    "    for i, (user, stake, duration, weight, stake_weight) in enumerate(all_stakes):\n",
    "        reward_share = normalized_weights[i] * total_rewards\n",
    "        rewards_distribution.append((user, stake, duration, weight, stake_weight, normalized_weights[i], reward_share))\n",
    "\n",
    "    return pd.DataFrame(rewards_distribution, columns=['User', 'Stake', 'Duration', 'Weight', 'Weighted Stake', 'Normalized Weight', 'Reward'])\n",
    "\n",
    "\n",
    "\n"
   ]
  },
  {
   "cell_type": "markdown",
   "metadata": {},
   "source": [
    "### Display"
   ]
  },
  {
   "cell_type": "code",
   "execution_count": 32,
   "metadata": {},
   "outputs": [],
   "source": [
    "def update_rewards(total_rewards):\n",
    "    rewards_df = distribute_rewards(stakeholders, total_rewards)\n",
    "    \n",
    "    # Display the DataFrame\n",
    "    display(rewards_df)\n",
    "\n",
    "    # Plotting the distribution\n",
    "    plt.figure(figsize=(12, 8))\n",
    "    for user in rewards_df['User'].unique():\n",
    "        user_data = rewards_df[rewards_df['User'] == user]\n",
    "        plt.bar(user_data.index, user_data['Reward'], label=user)\n",
    "\n",
    "    plt.xlabel('Stake Index')\n",
    "    plt.ylabel('Reward')\n",
    "    plt.title('Reward Distribution Among Stakeholders')\n",
    "    plt.legend()\n",
    "    plt.show()\n",
    "\n",
    "    # Plotting the weight distribution\n",
    "    plt.figure(figsize=(12, 8))\n",
    "    for user in rewards_df['User'].unique():\n",
    "        user_data = rewards_df[rewards_df['User'] == user]\n",
    "        plt.bar(user_data.index, user_data['Normalized Weight'], label=user)\n",
    "\n",
    "    plt.xlabel('Stake Index')\n",
    "    plt.ylabel('Normalized Weight')\n",
    "    plt.title('Normalized Weight Distribution Among Stakeholders')\n",
    "    plt.legend()\n",
    "    plt.show()\n"
   ]
  },
  {
   "cell_type": "code",
   "execution_count": 33,
   "metadata": {},
   "outputs": [
    {
     "data": {
      "application/vnd.jupyter.widget-view+json": {
       "model_id": "afcc57a2fd44436f979b026558231961",
       "version_major": 2,
       "version_minor": 0
      },
      "text/plain": [
       "interactive(children=(IntSlider(value=10000, description='total_rewards', max=50000, min=1000, step=1000), Out…"
      ]
     },
     "metadata": {},
     "output_type": "display_data"
    },
    {
     "data": {
      "text/plain": [
       "<function __main__.update_rewards(total_rewards)>"
      ]
     },
     "execution_count": 33,
     "metadata": {},
     "output_type": "execute_result"
    }
   ],
   "source": [
    "interact(update_rewards, total_rewards=widgets.IntSlider(min=1000, max=50000, step=1000, value=10000))"
   ]
  },
  {
   "cell_type": "code",
   "execution_count": 34,
   "metadata": {},
   "outputs": [],
   "source": [
    "# Function to visualize calculate_weight with different durations\n",
    "def visualize_weights(max_duration):\n",
    "    durations = np.arange(1, max_duration + 1)\n",
    "    weights = [calculate_weight(d) for d in durations]\n",
    "\n",
    "    plt.figure(figsize=(12, 8))\n",
    "    plt.plot(durations, weights, marker='o')\n",
    "    plt.xlabel('Duration (weeks)')\n",
    "    plt.ylabel('Weight')\n",
    "    plt.title('Weight Calculation Based on Duration')\n",
    "    plt.grid(True)\n",
    "    plt.show()\n"
   ]
  },
  {
   "cell_type": "code",
   "execution_count": 35,
   "metadata": {},
   "outputs": [
    {
     "data": {
      "application/vnd.jupyter.widget-view+json": {
       "model_id": "ee78c11d62de4b0497e3beb5870b96db",
       "version_major": 2,
       "version_minor": 0
      },
      "text/plain": [
       "interactive(children=(IntSlider(value=52, description='max_duration', min=1), Output()), _dom_classes=('widget…"
      ]
     },
     "metadata": {},
     "output_type": "display_data"
    },
    {
     "data": {
      "text/plain": [
       "<function __main__.visualize_weights(max_duration)>"
      ]
     },
     "execution_count": 35,
     "metadata": {},
     "output_type": "execute_result"
    }
   ],
   "source": [
    "interact(visualize_weights, max_duration=widgets.IntSlider(min=1, max=100, step=1, value=52))"
   ]
  }
 ],
 "metadata": {
  "kernelspec": {
   "display_name": ".venv",
   "language": "python",
   "name": "python3"
  },
  "language_info": {
   "codemirror_mode": {
    "name": "ipython",
    "version": 3
   },
   "file_extension": ".py",
   "mimetype": "text/x-python",
   "name": "python",
   "nbconvert_exporter": "python",
   "pygments_lexer": "ipython3",
   "version": "3.10.12"
  }
 },
 "nbformat": 4,
 "nbformat_minor": 2
}
