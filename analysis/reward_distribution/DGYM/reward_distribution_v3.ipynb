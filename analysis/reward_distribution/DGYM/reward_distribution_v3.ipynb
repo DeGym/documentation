{
 "cells": [
  {
   "cell_type": "markdown",
   "metadata": {},
   "source": [
    "# Reward Distribution MODEL V2\n",
    "\n",
    "This first model has no max_duration on staking contract"
   ]
  },
  {
   "cell_type": "code",
   "execution_count": 17,
   "metadata": {},
   "outputs": [],
   "source": [
    "import numpy as np\n",
    "import pandas as pd\n",
    "import matplotlib.pyplot as plt\n",
    "import ipywidgets as widgets\n",
    "from ipywidgets import interact\n",
    "\n"
   ]
  },
  {
   "cell_type": "markdown",
   "metadata": {},
   "source": [
    "### Parameters"
   ]
  },
  {
   "cell_type": "code",
   "execution_count": 18,
   "metadata": {},
   "outputs": [],
   "source": [
    "total_rewards = 10000\n",
    "stakeholders = {\n",
    "    'User1': [(1000, 4), (1500, 10)],\n",
    "    'User2': [(1200, 20), (800, 52)],\n",
    "    'User3': [(2000, 1)],\n",
    "    'User4': [(500, 5), (700, 15), (900, 25)]\n",
    "}\n"
   ]
  },
  {
   "cell_type": "code",
   "execution_count": 19,
   "metadata": {},
   "outputs": [],
   "source": [
    "# Function to calculate the weight of each stake based on the duration\n",
    "calculate_weight = lambda duration: np.log(duration + 1)\n",
    "\n",
    "# Calculate weighted stakes and distribute rewards\n",
    "def distribute_rewards(stakeholders, total_rewards):\n",
    "    all_stakes = []\n",
    "    for user, stakes in stakeholders.items():\n",
    "        for stake, duration in stakes:\n",
    "            weight = calculate_weight(duration)\n",
    "            all_stakes.append((user, stake, duration, weight, stake * weight))\n",
    "\n",
    "    total_weighted_stake = sum([stake_weight for _, _, _, _, stake_weight in all_stakes])\n",
    "\n",
    "    rewards_distribution = []\n",
    "    for user, stake, duration, weight, stake_weight in all_stakes:\n",
    "        reward_share = (stake_weight / total_weighted_stake) * total_rewards\n",
    "        rewards_distribution.append((user, stake, duration, weight, stake_weight, reward_share))\n",
    "\n",
    "    return pd.DataFrame(rewards_distribution, columns=['User', 'Stake', 'Duration', 'Weight', 'Weighted Stake', 'Reward'])\n",
    "\n",
    "\n"
   ]
  },
  {
   "cell_type": "markdown",
   "metadata": {},
   "source": [
    "### Display"
   ]
  },
  {
   "cell_type": "code",
   "execution_count": 20,
   "metadata": {},
   "outputs": [],
   "source": [
    "def update_rewards(total_rewards):\n",
    "    rewards_df = distribute_rewards(stakeholders, total_rewards)\n",
    "    \n",
    "    # Display the DataFrame\n",
    "    display(rewards_df)\n",
    "\n",
    "    # Plotting the distribution\n",
    "    plt.figure(figsize=(12, 8))\n",
    "    for user in rewards_df['User'].unique():\n",
    "        user_data = rewards_df[rewards_df['User'] == user]\n",
    "        plt.bar(user_data.index, user_data['Reward'], label=user)\n",
    "\n",
    "    plt.xlabel('Stake Index')\n",
    "    plt.ylabel('Reward')\n",
    "    plt.title('Reward Distribution Among Stakeholders')\n",
    "    plt.legend()\n",
    "    plt.show()\n",
    "\n",
    "    # Plotting the weight distribution\n",
    "    plt.figure(figsize=(12, 8))\n",
    "    for user in rewards_df['User'].unique():\n",
    "        user_data = rewards_df[rewards_df['User'] == user]\n",
    "        plt.bar(user_data.index, user_data['Weighted Stake'], label=user)\n",
    "\n",
    "    plt.xlabel('Stake Index')\n",
    "    plt.ylabel('Weighted Stake')\n",
    "    plt.title('Weighted Stake Distribution Among Stakeholders')\n",
    "    plt.legend()\n",
    "    plt.show()\n"
   ]
  },
  {
   "cell_type": "code",
   "execution_count": null,
   "metadata": {},
   "outputs": [
    {
     "ename": "NameError",
     "evalue": "name 'interact' is not defined",
     "output_type": "error",
     "traceback": [
      "\u001b[0;31m---------------------------------------------------------------------------\u001b[0m",
      "\u001b[0;31mNameError\u001b[0m                                 Traceback (most recent call last)",
      "Cell \u001b[0;32mIn[15], line 1\u001b[0m\n\u001b[0;32m----> 1\u001b[0m \u001b[43minteract\u001b[49m(update_rewards, total_rewards\u001b[38;5;241m=\u001b[39mwidgets\u001b[38;5;241m.\u001b[39mIntSlider(\u001b[38;5;28mmin\u001b[39m\u001b[38;5;241m=\u001b[39m\u001b[38;5;241m1000\u001b[39m, \u001b[38;5;28mmax\u001b[39m\u001b[38;5;241m=\u001b[39m\u001b[38;5;241m50000\u001b[39m, step\u001b[38;5;241m=\u001b[39m\u001b[38;5;241m1000\u001b[39m, value\u001b[38;5;241m=\u001b[39m\u001b[38;5;241m10000\u001b[39m))\n",
      "\u001b[0;31mNameError\u001b[0m: name 'interact' is not defined"
     ]
    }
   ],
   "source": [
    "interact(update_rewards, total_rewards=widgets.IntSlider(min=1000, max=50000, step=1000, value=10000))"
   ]
  }
 ],
 "metadata": {
  "kernelspec": {
   "display_name": ".venv",
   "language": "python",
   "name": "python3"
  },
  "language_info": {
   "codemirror_mode": {
    "name": "ipython",
    "version": 3
   },
   "file_extension": ".py",
   "mimetype": "text/x-python",
   "name": "python",
   "nbconvert_exporter": "python",
   "pygments_lexer": "ipython3",
   "version": "3.10.12"
  }
 },
 "nbformat": 4,
 "nbformat_minor": 2
}
