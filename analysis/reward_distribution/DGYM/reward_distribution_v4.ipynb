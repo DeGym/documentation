{
 "cells": [
  {
   "cell_type": "markdown",
   "metadata": {},
   "source": [
    "# Reward Distribution MODEL V4\n",
    "\n",
    "This model handles Bond, BondPool and StakeManaer objects indivudually"
   ]
  },
  {
   "cell_type": "code",
   "execution_count": 178,
   "metadata": {},
   "outputs": [],
   "source": [
    "import numpy as np\n",
    "import pandas as pd\n",
    "import matplotlib.pyplot as plt\n",
    "import ipywidgets as widgets\n",
    "from ipywidgets import interact\n",
    "import math\n",
    "import time"
   ]
  },
  {
   "cell_type": "code",
   "execution_count": 179,
   "metadata": {},
   "outputs": [],
   "source": [
    "# Bond structure\n",
    "class Bond:\n",
    "    def __init__(self, amount, start_time, lock_duration, is_compound):\n",
    "        self.amount = amount\n",
    "        self.start_time = start_time\n",
    "        self.lock_duration = lock_duration\n",
    "        self.is_compound = is_compound\n",
    "        self.earnings = 0\n",
    "        self.claimable_reward = 0\n",
    "\n",
    "    def weight(self):\n",
    "        end_date = self.start_time + self.lock_duration * 7 * 24 * 60 * 60  # convert weeks to seconds\n",
    "        remaining_duration = end_date - time.time()\n",
    "        if remaining_duration < 0:\n",
    "            remaining_duration = 1 / (24 * 60 * 60)  # 1 second\n",
    "        return self.amount * math.log(remaining_duration + 1)\n",
    "\n",
    "class BondPool:\n",
    "    def __init__(self, name, stake_manager):\n",
    "        self.name = name\n",
    "        self.stake_manager = stake_manager\n",
    "        self.bonds = []\n",
    "        self.total_staked = 0\n",
    "        self.total_earnings = 0\n",
    "        self.total_claimable_rewards = 0\n",
    "        self.total_weight = 0\n",
    "\n",
    "    def add_bond(self, amount, start_time, lock_duration, is_compound):\n",
    "        bond = Bond(amount, start_time, lock_duration, is_compound)\n",
    "        self.bonds.append(bond)\n",
    "        self.total_staked += amount\n",
    "        bond_weight = bond.weight()\n",
    "        self.total_weight += bond_weight\n",
    "        self.stake_manager.update_abs_total_bond_weight(bond_weight)\n",
    "\n",
    "    def update_reward(self, dao_rewards, abs_total_weight):\n",
    "        for bond in self.bonds:\n",
    "            bond_weight = bond.weight()\n",
    "            bond_weight_normalized = bond_weight / abs_total_weight\n",
    "            bond_reward = bond_weight_normalized * dao_rewards\n",
    "            if bond.is_compound:\n",
    "                bond.amount += bond_reward\n",
    "                self.total_staked += bond_reward\n",
    "                self.stake_manager.update_abs_total_staked(bond_reward, True)\n",
    "            else:\n",
    "                bond.claimable_reward += bond_reward\n",
    "                self.total_claimable_rewards += bond_reward\n",
    "            bond.earnings += bond_reward\n",
    "            self.total_earnings += bond_reward\n",
    "\n",
    "class StakeManager:\n",
    "    def __init__(self):\n",
    "        self.bond_pools = []\n",
    "        self.abs_total_staked = 0\n",
    "        self.abs_total_earnings = 0\n",
    "        self.abs_total_claimable_rewards = 0\n",
    "        self.abs_total_bond_weight = 0\n",
    "        self.max_duration = 52  # 52 weeks\n",
    "        self.max_start_time = 0\n",
    "\n",
    "    def add_bond_pool(self, bond_pool):\n",
    "        self.bond_pools.append(bond_pool)\n",
    "\n",
    "    def update_abs_total_staked(self, amount, is_staking):\n",
    "        if is_staking:\n",
    "            self.abs_total_staked += amount\n",
    "        else:\n",
    "            self.abs_total_staked -= amount\n",
    "\n",
    "    def update_abs_total_bond_weight(self, weight):\n",
    "        self.abs_total_bond_weight += weight\n",
    "\n",
    "    def get_abs_max_remain_duration(self):\n",
    "        return self.max_duration * 7 * 24 * 60 * 60  # convert weeks to seconds\n",
    "\n",
    "    def update_rewards(self, dao_rewards):\n",
    "        for pool in self.bond_pools:\n",
    "            pool.update_reward(dao_rewards, self.abs_total_bond_weight)"
   ]
  },
  {
   "cell_type": "markdown",
   "metadata": {},
   "source": [
    "### Mock data "
   ]
  },
  {
   "cell_type": "code",
   "execution_count": 180,
   "metadata": {},
   "outputs": [],
   "source": [
    "# Create StakeManager and BondPools\n",
    "stake_manager = StakeManager()\n",
    "\n",
    "bond_pools_data = [\n",
    "    [(1000, 4, False), (1500, 10, False)],\n",
    "    [(1200, 20, False), (800, 52, True)],\n",
    "    [(2000, 1, False)],\n",
    "    [(500, 5, False), (700, 15, True), (900, 25, False)]\n",
    "]\n",
    "\n",
    "# Initialize BondPools\n",
    "for i, bonds in enumerate(bond_pools_data):\n",
    "    bond_pool = BondPool(f\"Pool {i+1}\", stake_manager)\n",
    "    for amount, lock_duration, is_compound in bonds:\n",
    "        bond_pool.add_bond(amount, time.time(), lock_duration, is_compound)\n",
    "    stake_manager.add_bond_pool(bond_pool)\n"
   ]
  },
  {
   "cell_type": "markdown",
   "metadata": {},
   "source": [
    "### Reward Distribution and Visualization"
   ]
  },
  {
   "cell_type": "code",
   "execution_count": 181,
   "metadata": {},
   "outputs": [],
   "source": [
    "def visualize_rewards():\n",
    "    data = []\n",
    "    for pool in stake_manager.bond_pools:\n",
    "        for bond in pool.bonds:\n",
    "            data.append({\n",
    "                \"Pool\": pool.name,\n",
    "                \"Amount\": bond.amount,\n",
    "                \"Lock Duration\": bond.lock_duration,\n",
    "                \"Is Compound\": bond.is_compound,\n",
    "                \"Earnings\": bond.earnings,\n",
    "                \"Claimable Reward\": bond.claimable_reward\n",
    "            })\n",
    "    df = pd.DataFrame(data)\n",
    "    return df\n",
    "\n",
    "dao_rewards = 10000  # Example reward to distribute\n",
    "stake_manager.update_rewards(dao_rewards)\n",
    "df_rewards = visualize_rewards()"
   ]
  },
  {
   "cell_type": "markdown",
   "metadata": {},
   "source": [
    "#### Test"
   ]
  },
  {
   "cell_type": "code",
   "execution_count": 182,
   "metadata": {},
   "outputs": [
    {
     "name": "stdout",
     "output_type": "stream",
     "text": [
      "All tests passed!\n"
     ]
    }
   ],
   "source": [
    "def test_total_earnings(dao_rewards):\n",
    "    total_earnings = sum(bond.earnings for pool in stake_manager.bond_pools for bond in pool.bonds)\n",
    "    assert np.isclose(total_earnings, dao_rewards), f\"Total earnings {total_earnings} does not match dao_rewards {dao_rewards}\"\n",
    "    print(\"All tests passed!\")\n",
    "\n",
    "# Run test\n",
    "test_total_earnings(dao_rewards)"
   ]
  },
  {
   "cell_type": "markdown",
   "metadata": {},
   "source": [
    "### Interactive Visualization with Duration and dao_rewards Slider"
   ]
  },
  {
   "cell_type": "code",
   "execution_count": 183,
   "metadata": {},
   "outputs": [
    {
     "data": {
      "application/vnd.jupyter.widget-view+json": {
       "model_id": "3a32ee71ef164deeaee1ff1700faf30b",
       "version_major": 2,
       "version_minor": 0
      },
      "text/plain": [
       "interactive(children=(IntSlider(value=0, description='bond_index', max=1), IntSlider(value=4, description='new…"
      ]
     },
     "metadata": {},
     "output_type": "display_data"
    }
   ],
   "source": [
    "def update_bond_duration(pool_name, bond_index, new_duration):\n",
    "    pool = next(pool for pool in stake_manager.bond_pools if pool.name == pool_name)\n",
    "    bond = pool.bonds[bond_index]\n",
    "    bond.lock_duration = new_duration\n",
    "\n",
    "def plot_rewards(pool_name, bond_index, new_duration, dao_rewards):\n",
    "    update_bond_duration(pool_name, bond_index, new_duration)\n",
    "    stake_manager.update_rewards(dao_rewards)\n",
    "    \n",
    "    pool = next(pool for pool in stake_manager.bond_pools if pool.name == pool_name)\n",
    "    bond_data = {\n",
    "        \"Bond Index\": range(len(pool.bonds)),\n",
    "        \"Amount\": [bond.amount for bond in pool.bonds],\n",
    "        \"Lock Duration\": [bond.lock_duration for bond in pool.bonds],\n",
    "        \"Is Compound\": [bond.is_compound for bond in pool.bonds],\n",
    "        \"Earnings\": [bond.earnings for bond in pool.bonds],\n",
    "        \"Claimable Reward\": [bond.claimable_reward for bond in pool.bonds],\n",
    "    }\n",
    "    df_bonds = pd.DataFrame(bond_data)\n",
    "\n",
    "    fig, ax = plt.subplots(figsize=(12, 6))\n",
    "    df_bonds.plot(x=\"Bond Index\", y=[\"Earnings\", \"Claimable Reward\"], kind=\"bar\", ax=ax)\n",
    "    ax.set_title(f\"Rewards Distribution in {pool_name} (dao_rewards={dao_rewards})\")\n",
    "    ax.set_ylabel(\"Amount\")\n",
    "    ax.set_xlabel(\"Bond Index\")\n",
    "    plt.show()\n",
    "\n",
    "def interactive_plot(pool_name, bond_index, new_duration, dao_rewards):\n",
    "    pool = next(pool for pool in stake_manager.bond_pools if pool.name == pool_name)\n",
    "    bond_indices = range(len(pool.bonds))\n",
    "    bond_durations = [bond.lock_duration for bond in pool.bonds]\n",
    "\n",
    "    interact(plot_rewards, \n",
    "             pool_name=widgets.fixed(pool_name), \n",
    "             bond_index=widgets.IntSlider(min=0, max=len(pool.bonds)-1, step=1, value=bond_index), \n",
    "             new_duration=widgets.IntSlider(min=1, max=52, step=1, value=bond_durations[bond_index]),\n",
    "             dao_rewards=widgets.IntSlider(min=1000, max=50000, step=1000, value=dao_rewards))\n",
    "\n",
    "# Interactive plot for Pool 1 and bond index 0 with adjustable dao_rewards\n",
    "interactive_plot(\"Pool 1\", 0, 4, dao_rewards)"
   ]
  }
 ],
 "metadata": {
  "kernelspec": {
   "display_name": ".venv",
   "language": "python",
   "name": "python3"
  },
  "language_info": {
   "codemirror_mode": {
    "name": "ipython",
    "version": 3
   },
   "file_extension": ".py",
   "mimetype": "text/x-python",
   "name": "python",
   "nbconvert_exporter": "python",
   "pygments_lexer": "ipython3",
   "version": "3.10.12"
  }
 },
 "nbformat": 4,
 "nbformat_minor": 2
}
