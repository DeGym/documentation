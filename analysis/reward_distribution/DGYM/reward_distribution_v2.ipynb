{
 "cells": [
  {
   "cell_type": "markdown",
   "metadata": {},
   "source": [
    "# Reward Distribution MODEL V2\n",
    "\n",
    "This first model has no max_duration on staking contract"
   ]
  },
  {
   "cell_type": "code",
   "execution_count": 2,
   "metadata": {},
   "outputs": [],
   "source": [
    "import numpy as np\n",
    "import pandas as pd"
   ]
  },
  {
   "cell_type": "markdown",
   "metadata": {},
   "source": [
    "### Hypothetical user data: (stake_amount, lock_duration in weeks)"
   ]
  },
  {
   "cell_type": "code",
   "execution_count": 3,
   "metadata": {},
   "outputs": [],
   "source": [
    "users = [\n",
    "    (1000, 4),\n",
    "    (1500, 10),\n",
    "    (1200, 20),\n",
    "    (800, 52),\n",
    "    (2000, 1)\n",
    "]"
   ]
  },
  {
   "cell_type": "markdown",
   "metadata": {},
   "source": [
    "### Parameters"
   ]
  },
  {
   "cell_type": "code",
   "execution_count": 4,
   "metadata": {},
   "outputs": [],
   "source": [
    "total_rewards = 10000  # Total rewards to distribute"
   ]
  },
  {
   "cell_type": "markdown",
   "metadata": {},
   "source": [
    "### Calculate weighted stakes"
   ]
  },
  {
   "cell_type": "code",
   "execution_count": 5,
   "metadata": {},
   "outputs": [],
   "source": [
    "duration_weights = [np.log(duration + 1) for stake, duration in users]\n",
    "weighted_stakes = [stake * weight for (stake, duration), weight in zip(users, duration_weights)]\n",
    "\n",
    "total_weighted_stake = sum(weighted_stakes)"
   ]
  },
  {
   "cell_type": "markdown",
   "metadata": {},
   "source": [
    "### Calculate each user's share and reward"
   ]
  },
  {
   "cell_type": "code",
   "execution_count": 6,
   "metadata": {},
   "outputs": [],
   "source": [
    "rewards = [(stake, duration, weight, weighted_stake, weighted_stake / total_weighted_stake * total_rewards)\n",
    "           for (stake, duration), weight, weighted_stake in zip(users, duration_weights, weighted_stakes)]"
   ]
  },
  {
   "cell_type": "markdown",
   "metadata": {},
   "source": [
    "##### Display"
   ]
  },
  {
   "cell_type": "code",
   "execution_count": 7,
   "metadata": {},
   "outputs": [
    {
     "name": "stdout",
     "output_type": "stream",
     "text": [
      "   Stake  Duration  Duration Weight  Weighted Stake       Reward\n",
      "0   1000         4         1.609438     1609.437912  1199.083339\n",
      "1   1500        10         2.397895     3596.842909  2679.764389\n",
      "2   1200        20         3.044522     3653.426925  2721.921313\n",
      "3    800        52         3.970292     3176.233531  2366.396788\n",
      "4   2000         1         0.693147     1386.294361  1032.834170\n"
     ]
    }
   ],
   "source": [
    "df = pd.DataFrame(rewards, columns=['Stake', 'Duration', 'Duration Weight', 'Weighted Stake', 'Reward'])\n",
    "print(df)"
   ]
  }
 ],
 "metadata": {
  "kernelspec": {
   "display_name": "Python 3",
   "language": "python",
   "name": "python3"
  },
  "language_info": {
   "codemirror_mode": {
    "name": "ipython",
    "version": 3
   },
   "file_extension": ".py",
   "mimetype": "text/x-python",
   "name": "python",
   "nbconvert_exporter": "python",
   "pygments_lexer": "ipython3",
   "version": "3.10.12"
  }
 },
 "nbformat": 4,
 "nbformat_minor": 2
}
